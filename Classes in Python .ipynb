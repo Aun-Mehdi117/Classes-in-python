{
 "cells": [
  {
   "cell_type": "markdown",
   "id": "81a365e3",
   "metadata": {},
   "source": [
    "# Classes in Python: A Comprehensive Guide\n",
    "\n",
    "## Introduction\n",
    "### In Python, classes are a fundamental building block for object-oriented programming (OOP). OOP is a programming paradigm that uses objects and classes to model real-world scenarios. They allow you to create user-defined data structures that encapsulate both data (attributes) and behavior (methods). This encapsulation promotes code reusability, modularity, and maintainability."
   ]
  },
  {
   "cell_type": "markdown",
   "id": "0a0d6649",
   "metadata": {},
   "source": [
    "## Key Concepts\n",
    "### Class: A blueprint for creating objects. It defines the attributes and methods that objects of that class will possess.\n",
    "### Object: An instance of a class. It has its own unique set of attribute values.\n",
    "### Attributes: Variables that store data associated with an object.\n",
    "### Methods: Functions that operate on the object's data.\n",
    "### Constructor: A special method called __init__ that is automatically invoked when an object is created. It initializes the object's attributes.\n",
    "## Creating a Class and Object"
   ]
  },
  {
   "cell_type": "code",
   "execution_count": 1,
   "id": "0239378a",
   "metadata": {},
   "outputs": [
    {
     "name": "stdout",
     "output_type": "stream",
     "text": [
      "Buddy\n",
      "Buddy barks!\n"
     ]
    }
   ],
   "source": [
    "class Dog:\n",
    "    def __init__(self, name, breed):\n",
    "        self.name = name\n",
    "        self.breed = breed\n",
    "\n",
    "    def bark(self):\n",
    "        print(f\"{self.name} barks!\")\n",
    "\n",
    "# Create an object of the Dog class\n",
    "my_dog = Dog(\"Buddy\", \"Golden Retriever\")\n",
    "\n",
    "# Access attributes and call methods\n",
    "print(my_dog.name)  # Output: Buddy\n",
    "my_dog.bark()  # Output: Buddy barks!"
   ]
  },
  {
   "cell_type": "markdown",
   "id": "db04f438",
   "metadata": {},
   "source": [
    "## Inheritance\n",
    "### Inheritance allows you to create new classes (child classes) that inherit attributes and methods from existing classes (parent classes). This promotes code reuse and hierarchical relationships between classes."
   ]
  },
  {
   "cell_type": "code",
   "execution_count": 2,
   "id": "9dcf9e3a",
   "metadata": {},
   "outputs": [
    {
     "name": "stdout",
     "output_type": "stream",
     "text": [
      "Buddy is eating.\n",
      "Buddy barks!\n"
     ]
    }
   ],
   "source": [
    "class Animal:\n",
    "    def __init__(self, name):\n",
    "        self.name = name\n",
    "\n",
    "    def eat(self):\n",
    "        print(f\"{self.name} is eating.\")\n",
    "\n",
    "class Dog(Animal):\n",
    "    def bark(self):\n",
    "        print(f\"{self.name} barks!\")\n",
    "\n",
    "my_dog = Dog(\"Buddy\")\n",
    "my_dog.eat()  # Output: Buddy is eating.\n",
    "my_dog.bark()  # Output: Buddy barks!"
   ]
  },
  {
   "cell_type": "markdown",
   "id": "d76e9927",
   "metadata": {},
   "source": [
    "## Encapsulation\n",
    "### Encapsulation is the practice of hiding the internal implementation details of a class from the outside world. This promotes code modularity and prevents unintended modifications."
   ]
  },
  {
   "cell_type": "code",
   "execution_count": 3,
   "id": "788a14d6",
   "metadata": {},
   "outputs": [],
   "source": [
    "class BankAccount:\n",
    "    def __init__(self, balance):\n",
    "        self.__balance = balance  # Private attribute\n",
    "\n",
    "    def deposit(self, amount):\n",
    "        self.__balance += amount\n",
    "\n",
    "    def withdraw(self, amount):\n",
    "        if self.__balance >= amount:\n",
    "            self.__balance -= amount\n",
    "        else:\n",
    "            print(\"Insufficient funds.\")\n",
    "\n",
    "    def get_balance(self):\n",
    "        return self.__balance"
   ]
  },
  {
   "cell_type": "markdown",
   "id": "99ec9b48",
   "metadata": {},
   "source": [
    "## Practice Exercises\n",
    "\n",
    "### 1. Create a class Person with attributes name, age, and city.\n",
    "### 2. Create a class Car with attributes make, model, and year.\n",
    "### 3. Create a class Circle with attributes radius and methods to calculate area and circumference.\n",
    "### 4. Create a class Rectangle with attributes length and width and methods to calculate area and perimeter.\n",
    "### 5. Create a class Student with attributes name, roll_number, and marks. Implement a method to calculate the average marks.\n",
    "### 6. Create a class Book with attributes title, author, and publication_year.\n",
    "### 7. Create a class Employee with attributes name, salary, and designation.\n",
    "### 8. Create a class Bank with attributes name, account_number, and balance. Implement methods to deposit and withdraw money.\n",
    "### 9. Create a class Shape with a method to calculate area. Create subclasses Circle, Rectangle, and Triangle that inherit from Shape and implement their specific area calculations.\n",
    "### 10. Create a class Animal with attributes name and sound. Create subclasses Dog, Cat, and Cow that inherit from Animal and implement their specific sounds.\n",
    "\n",
    "## Additional Tips\n",
    "### Use meaningful names for classes, attributes, and methods.\n",
    "### Write clear and concise code.\n",
    "### Use comments to explain complex logic.\n",
    "### Test your code thoroughly.\n",
    "### Consider using inheritance to avoid code duplication.\n",
    "### Encapsulate data to protect it from accidental modification.\n",
    "### Use polymorphism to create flexible and adaptable code."
   ]
  },
  {
   "cell_type": "code",
   "execution_count": 6,
   "id": "cae0ab42",
   "metadata": {},
   "outputs": [
    {
     "name": "stdout",
     "output_type": "stream",
     "text": [
      "Aun\n",
      "18\n",
      "LHR\n"
     ]
    }
   ],
   "source": [
    "#Question 1\n",
    "# Create a class Person with attributes name, age, and city.\n",
    "class person: #class\n",
    "    def __init__(self,name,age,city): #constructor\n",
    "        self.name=name\n",
    "        self.age=age #attributes\n",
    "        self.city=city\n",
    "person_1=person(\"Aun\",18,\"LHR\") # object\n",
    "print(person_1.name)\n",
    "print(person_1.age) # methods\n",
    "print(person_1.city)\n"
   ]
  },
  {
   "cell_type": "code",
   "execution_count": 30,
   "id": "0afa003e-cb00-46c8-ab0b-fc18b102ed21",
   "metadata": {},
   "outputs": [
    {
     "name": "stdout",
     "output_type": "stream",
     "text": [
      "Honda\n",
      "City\n",
      "2015\n"
     ]
    }
   ],
   "source": [
    "#Question 2\n",
    "#Create a class Car with attributes make, model, and year.\n",
    "class car:#class\n",
    "    def __init__(self,make,model,year):#constructor\n",
    "        self.make=make\n",
    "        self.model=model #attributes\n",
    "        self.year=year\n",
    "my_car=car(\"Honda\",\"City\",2015)#object\n",
    "print(my_car.make)\n",
    "print(my_car.model)#methods\n",
    "print(my_car.year)"
   ]
  },
  {
   "cell_type": "code",
   "execution_count": 39,
   "id": "966e4cdb-c863-4c7d-a5fa-765a529d2008",
   "metadata": {},
   "outputs": [
    {
     "name": "stdout",
     "output_type": "stream",
     "text": [
      "Area: 78.53981633974483\n",
      "Circumference: 31.41592653589793\n"
     ]
    }
   ],
   "source": [
    "#Question 3\n",
    "# Create a class Circle with attributes radius and methods to calculate area and circumference\n",
    "import math\n",
    "class circle:\n",
    "    def __init__(self, radius):\n",
    "        self.radius = radius\n",
    "    def area(self):\n",
    "        return math.pi * (self.radius ** 2)\n",
    "    def circumference(self):\n",
    "        return 2 * math.pi * self.radius\n",
    "circle = Circle(5)\n",
    "print(\"Area:\", circle.area())  \n",
    "print(\"Circumference:\", circle.circumference())"
   ]
  },
  {
   "cell_type": "code",
   "execution_count": 34,
   "id": "30ddd25e-3745-4348-8960-75d49cd5bcf0",
   "metadata": {},
   "outputs": [
    {
     "name": "stdout",
     "output_type": "stream",
     "text": [
      "Area: 48\n",
      "Perimeter: 28\n"
     ]
    }
   ],
   "source": [
    "# Question 4\n",
    "#Create a class Rectangle with attributes length and width and methods to calculate area and perimeter.\n",
    "import math\n",
    "class Rectangle:\n",
    "    def __init__(self,length,width):\n",
    "        self.length=length\n",
    "        self.width=width\n",
    "    def area(self):\n",
    "        return self.length*self.width\n",
    "    def perimeter(self):\n",
    "        return 2*(self.length+self.width)\n",
    "rectangle=Rectangle(6,8)\n",
    "print(\"Area:\",rectangle.area())\n",
    "print(\"Perimeter:\",rectangle.perimeter())"
   ]
  },
  {
   "cell_type": "code",
   "execution_count": 27,
   "id": "86cd99bd-3436-46c6-b2ca-ea6a0694deb3",
   "metadata": {},
   "outputs": [
    {
     "name": "stdout",
     "output_type": "stream",
     "text": [
      "Aun\n",
      "15268\n",
      "[85, 92, 78, 95]\n",
      "Average marks: 87.5\n"
     ]
    }
   ],
   "source": [
    "#Question 5\n",
    "# Create a class Student with attributes name, roll_number, and marks. Implement a method to calculate the average marks.\n",
    "\n",
    "class Student:\n",
    "    def __init__(self, name, roll_number, marks):\n",
    "        self.name = name\n",
    "        self.roll_number = roll_number\n",
    "        self.marks =marks\n",
    "    def average(self):\n",
    "        total_marks = sum(self.marks)\n",
    "        no_subjects = len(self.marks)\n",
    "        average_marks = total_marks / no_subjects\n",
    "        return average_marks\n",
    "student1 = Student(\"Aun\",'15268', [85, 92, 78, 95])\n",
    "average_marks = student1.average()\n",
    "print(student1.name)\n",
    "print(student1.roll_number)\n",
    "print(student1.marks)\n",
    "print(\"Average marks:\", average_marks)"
   ]
  },
  {
   "cell_type": "code",
   "execution_count": 28,
   "id": "3074f4ed-68df-4a7e-91e1-a59f9321624e",
   "metadata": {},
   "outputs": [
    {
     "name": "stdout",
     "output_type": "stream",
     "text": [
      "Great Book\n",
      "Mohib Manzoor\n",
      "1987\n"
     ]
    }
   ],
   "source": [
    "#Question 6\n",
    "#Create a class Book with attributes title, author, and publication_year.\n",
    "class book:\n",
    "    def __init__(self,title,aut,p_y):\n",
    "        self.title=title\n",
    "        self.aut=aut\n",
    "        self.p_y=p_y\n",
    "\n",
    "book_1=book('Great Book','Mohib Manzoor','1987')\n",
    "\n",
    "print(book_1.title)\n",
    "print(book_1.aut)\n",
    "print(book_1.p_y)\n",
    "        "
   ]
  },
  {
   "cell_type": "code",
   "execution_count": 32,
   "id": "232db89b-9f94-4670-86ea-baa67ed9e0a6",
   "metadata": {},
   "outputs": [
    {
     "name": "stdout",
     "output_type": "stream",
     "text": [
      "Ahmad\n",
      "25000\n",
      "Manager\n"
     ]
    }
   ],
   "source": [
    "##Question 7\n",
    "#Create a class Employee with attributes name, salary, and designation.\n",
    "\n",
    "class employee:\n",
    "    def __init__(self,name,sal,des):\n",
    "        self.name=name\n",
    "        self.sal=sal\n",
    "        self.des=des\n",
    "\n",
    "employee_1=employee('Ahmad',25000,'Manager')\n",
    "\n",
    "print(employee_1.name)\n",
    "print(employee_1.sal)\n",
    "print(employee_1.des)"
   ]
  },
  {
   "cell_type": "code",
   "execution_count": 47,
   "id": "cc99c8a4-906f-41d1-8c26-3c5d8b0f8be4",
   "metadata": {},
   "outputs": [
    {
     "name": "stdout",
     "output_type": "stream",
     "text": [
      "Deposited 1500 PKR. New balance: 6500 PKR\n",
      "Withdrew 2000 PKR. New balance: 4500 PKR\n",
      "Insufficient funds!\n",
      "Final balance: 4500 PKR\n"
     ]
    }
   ],
   "source": [
    "#Question 8\n",
    "#Create a class Bank with attributes name, account_number, and balance. Implement methods to deposit and withdraw money.\n",
    "\n",
    "\n",
    "class Bank:\n",
    "    def __init__(self, name, account_number, balance=0.0):\n",
    "        self.name = name\n",
    "        self.account_number = account_number\n",
    "        self.balance = balance  # Default balance is 0.0 PKR\n",
    "\n",
    "    def deposit(self, amount):\n",
    "        if amount > 0:\n",
    "            self.balance += amount\n",
    "            print(f\"Deposited {amount} PKR. New balance: {self.balance} PKR\")\n",
    "        else:\n",
    "            print(\"Deposit amount must be positive.\")\n",
    "\n",
    "    def withdraw(self, amount):\n",
    "        if amount <= 0:\n",
    "            print(\"Withdrawal amount must be positive.\")\n",
    "        elif amount > self.balance:\n",
    "            print(\"Insufficient funds!\")\n",
    "        else:\n",
    "            self.balance -= amount\n",
    "            print(f\"Withdrew {amount} PKR. New balance: {self.balance} PKR\")\n",
    "\n",
    "    def get_balance(self):\n",
    "        return self.balance\n",
    "\n",
    "\n",
    "account1 = Bank(\"Ali\", \"12345\", 5000)  # Initial balance of 5000 PKR\n",
    "account1.deposit(1500)  # Deposit 1500 PKR\n",
    "account1.withdraw(2000)  # Withdraw 2000 PKR\n",
    "account1.withdraw(6000)  # Attempt to withdraw more than the balance\n",
    "print(f\"Final balance: {account1.get_balance()} PKR\")\n",
    "\n"
   ]
  },
  {
   "cell_type": "code",
   "execution_count": null,
   "id": "0d23576c-9801-434b-bfe1-4ca386034fb6",
   "metadata": {},
   "outputs": [],
   "source": []
  }
 ],
 "metadata": {
  "kernelspec": {
   "display_name": "Python 3 (ipykernel)",
   "language": "python",
   "name": "python3"
  },
  "language_info": {
   "codemirror_mode": {
    "name": "ipython",
    "version": 3
   },
   "file_extension": ".py",
   "mimetype": "text/x-python",
   "name": "python",
   "nbconvert_exporter": "python",
   "pygments_lexer": "ipython3",
   "version": "3.12.4"
  }
 },
 "nbformat": 4,
 "nbformat_minor": 5
}
